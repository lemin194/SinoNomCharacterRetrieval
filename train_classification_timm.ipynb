{
 "cells": [
  {
   "cell_type": "code",
   "execution_count": 1,
   "metadata": {},
   "outputs": [],
   "source": [
    "from argparse import Namespace\n",
    "args = Namespace(\n",
    "  num_classes=2139,\n",
    "  in_channels=1,\n",
    "  model_name='caformer_m36.sail_in22k_ft_in1k_384',\n",
    "  \n",
    "  \n",
    "  device='cuda',\n",
    "  lr=1e-5,\n",
    "  freeze_body=False,\n",
    "  warmup_steps=8,\n",
    "  batchsize=400,\n",
    "  grad_accumulation_steps=4,\n",
    "  num_steps=1000, \n",
    "  num_epochs=50, \n",
    "  checkpointing_steps=2000,\n",
    "  save_path='./working/my_classifier/caformer_m36.sail_in22k_ft_in1k_384'\n",
    ")"
   ]
  },
  {
   "cell_type": "code",
   "execution_count": 2,
   "metadata": {},
   "outputs": [],
   "source": [
    "from classification.dataset import ClassifyDataset\n",
    "from classification.transform import *\n",
    "from torch.utils.data import DataLoader\n",
    "\n",
    "\n",
    "batchsize = args.batchsize\n",
    "if args.freeze_body: batchsize *= 4\n",
    "train = ClassifyDataset('input/classification/train.csv', transform=train_transform)\n",
    "val = ClassifyDataset('input/classification/test.csv', transform=test_transform)\n",
    "# train.df = train.df.iloc[:5000]\n",
    "train_loader = DataLoader(train, batchsize, True, num_workers=10)\n",
    "val_loader = DataLoader(val, batchsize)"
   ]
  },
  {
   "cell_type": "code",
   "execution_count": 3,
   "metadata": {},
   "outputs": [
    {
     "name": "stderr",
     "output_type": "stream",
     "text": [
      "INFO:timm.models._builder:Loading pretrained weights from Hugging Face hub (timm/caformer_m36.sail_in22k_ft_in1k_384)\n",
      "INFO:timm.models._hub:[timm/caformer_m36.sail_in22k_ft_in1k_384] Safe alternative available for 'pytorch_model.bin' (as 'model.safetensors'). Loading weights using safetensors.\n",
      "WARNING:timm.models._builder:Unexpected keys (head.fc.fc1.bias, head.fc.fc1.weight, head.fc.norm.bias, head.fc.norm.weight) found while loading pretrained weights. This may be expected if model is being adapted.\n"
     ]
    }
   ],
   "source": [
    "from timm import create_model\n",
    "from fastai.vision.learner import _update_first_layer, has_pool_type, create_head, num_features_model\n",
    "import torch.nn as nn\n",
    "\n",
    "\n",
    "def create_timm_body(arch:str, pretrained=True, cut=None, n_in=3):\n",
    "    \"Creates a body from any model in the `timm` library.\"\n",
    "    model = create_model(arch, pretrained=pretrained, num_classes=0, global_pool='')\n",
    "    _update_first_layer(model, n_in, pretrained)\n",
    "    if cut is None:\n",
    "        ll = list(enumerate(model.children()))\n",
    "        cut = next(i for i,o in reversed(ll) if has_pool_type(o))\n",
    "    if isinstance(cut, int): return nn.Sequential(*list(model.children())[:cut])\n",
    "    elif callable(cut): return cut(model)\n",
    "    else: raise NameError(\"cut must be either integer or function\")\n",
    "\n",
    "body = create_timm_body(args.model_name, pretrained=True, n_in=args.in_channels)\n",
    "nf = num_features_model(body)\n",
    "# head = create_head(nf, args.num_classes)\n",
    "# model = nn.Sequential(body, head)"
   ]
  },
  {
   "cell_type": "code",
   "execution_count": 4,
   "metadata": {},
   "outputs": [
    {
     "data": {
      "text/plain": [
       "('78.71M', '52.555M')"
      ]
     },
     "execution_count": 4,
     "metadata": {},
     "output_type": "execute_result"
    }
   ],
   "source": [
    "from classification.ml_decoder.ml_decoder.ml_decoder import MLDecoder\n",
    "from utils import get_model_size\n",
    "\n",
    "ml_decoder_head = MLDecoder(args.num_classes, initial_num_features=nf, decoder_embedding=768)\n",
    "model = nn.Sequential(body, ml_decoder_head)\n",
    "get_model_size(model), get_model_size(body)"
   ]
  },
  {
   "cell_type": "code",
   "execution_count": 5,
   "metadata": {},
   "outputs": [],
   "source": [
    "def freeze_body():\n",
    "  ct = 0\n",
    "  for child in model[0].children():\n",
    "    ct += 1\n",
    "    if ct < 8:\n",
    "      for param in child.parameters():\n",
    "        param.requires_grad = False\n",
    "if args.freeze_body:\n",
    "  freeze_body()"
   ]
  },
  {
   "cell_type": "code",
   "execution_count": 6,
   "metadata": {},
   "outputs": [
    {
     "name": "stdout",
     "output_type": "stream",
     "text": [
      "Total: 78.8304M, Trainable: 78.7104M\n"
     ]
    }
   ],
   "source": [
    "def pytorch_count_params(model):\n",
    "  \"count number trainable parameters in a pytorch model\"\n",
    "  total  = sum(p.numel() for p in model.parameters())\n",
    "  trainable  = sum(p.numel() for p in model.parameters() if p.requires_grad)\n",
    "  return total, trainable\n",
    "\n",
    "total, trainable = pytorch_count_params(model)\n",
    "print(f\"Total: {total/1e6:.4f}M, Trainable: {trainable/1e6:.4f}M\")"
   ]
  },
  {
   "cell_type": "code",
   "execution_count": 7,
   "metadata": {},
   "outputs": [
    {
     "data": {
      "text/plain": [
       "torch.Size([7, 576, 2, 2])"
      ]
     },
     "execution_count": 7,
     "metadata": {},
     "output_type": "execute_result"
    }
   ],
   "source": [
    "import torch\n",
    "body(torch.randn(7, 1, 64, 64)).shape"
   ]
  },
  {
   "cell_type": "code",
   "execution_count": 8,
   "metadata": {},
   "outputs": [
    {
     "data": {
      "text/plain": [
       "576"
      ]
     },
     "execution_count": 8,
     "metadata": {},
     "output_type": "execute_result"
    }
   ],
   "source": [
    "nf"
   ]
  },
  {
   "cell_type": "code",
   "execution_count": 9,
   "metadata": {},
   "outputs": [],
   "source": [
    "import torch\n",
    "import os\n",
    "\n",
    "def save_model(step, best_score):\n",
    "  # save_dir = os.path.join(args.save_path, 'ckpt%d'%step)\n",
    "  os.makedirs(args.save_path, exist_ok=True)\n",
    "  # torch.save((best_score, model.state_dict()), os.path.join(save_dir, 'pytorch_model.bin'))\n",
    "  torch.save((best_score, model.state_dict()), os.path.join(args.save_path, 'pytorch_model.bin'))\n",
    "\n",
    "def load_model(prev_score):\n",
    "  if os.path.isfile(os.path.join(args.save_path, 'pytorch_model.bin')):\n",
    "    best_score, state_dict = torch.load(os.path.join(args.save_path, 'pytorch_model.bin'))\n",
    "    if best_score > prev_score:\n",
    "      model.load_state_dict(state_dict)\n",
    "      print('loaded')\n",
    "      prev_score = best_score\n",
    "  return prev_score"
   ]
  },
  {
   "cell_type": "code",
   "execution_count": 10,
   "metadata": {},
   "outputs": [
    {
     "data": {
      "text/plain": [
       "tensor(8.8689, grad_fn=<NllLossBackward0>)"
      ]
     },
     "execution_count": 10,
     "metadata": {},
     "output_type": "execute_result"
    }
   ],
   "source": [
    "from timm.loss.cross_entropy import LabelSmoothingCrossEntropy\n",
    "import torch.nn as nn\n",
    "import torch.nn.functional as F\n",
    "import torch\n",
    "\n",
    "loss_function = F.cross_entropy\n",
    "# loss_function = LabelSmoothingCrossEntropy(smoothing=1e-6)\n",
    "model.to('cpu')\n",
    "out = model(torch.randn(7, 1, 64, 64))\n",
    "labels = torch.randint(0, args.num_classes, (7,))\n",
    "loss_function(out, labels)"
   ]
  },
  {
   "cell_type": "code",
   "execution_count": 11,
   "metadata": {},
   "outputs": [],
   "source": [
    "from sklearn.metrics import top_k_accuracy_score\n",
    "from tqdm import tqdm\n",
    "import numpy as np\n",
    "import torch.nn as nn\n",
    "import torch.nn.functional as F\n",
    "\n",
    "def eval():\n",
    "  pbar = tqdm(val_loader)\n",
    "  model.to('cuda')\n",
    "  model.eval()\n",
    "  y_pred = []\n",
    "  y_true = []\n",
    "  with torch.no_grad():\n",
    "    for sample in pbar:\n",
    "      image, label = sample\n",
    "      image = image.cuda()\n",
    "      out = model(image)\n",
    "      out = F.softmax(out, dim=1)\n",
    "      \n",
    "      y_pred += [out.detach().cpu().numpy()]\n",
    "      y_true += [label.cpu().numpy()]\n",
    "  \n",
    "  y_true = np.concatenate(y_true, axis=0)\n",
    "  y_pred = np.concatenate(y_pred, axis=0)\n",
    "  return (top_k_accuracy_score(y_true, y_pred, k=1, labels=range(args.num_classes)),\n",
    "        top_k_accuracy_score(y_true, y_pred, k=5, labels=range(args.num_classes)))\n",
    "    \n",
    "    "
   ]
  },
  {
   "cell_type": "code",
   "execution_count": 12,
   "metadata": {},
   "outputs": [],
   "source": [
    "from torch.optim import AdamW, SGD\n",
    "from lion_pytorch import Lion\n",
    "from torch.optim.lr_scheduler import LinearLR, SequentialLR, CosineAnnealingLR\n",
    "\n",
    "opt = Lion(model.parameters(), lr=args.lr, weight_decay=1e-2)\n",
    "# opt = AdamW(model.parameters(), lr=args.lr/10)\n",
    "# opt = SGD(model.parameters(), lr=args.lr)\n",
    "warmup = LinearLR(opt, start_factor=1/args.warmup_steps, total_iters=args.warmup_steps)\n",
    "reduce = CosineAnnealingLR(opt, T_max=args.num_epochs * len(train_loader))\n",
    "scheduler = SequentialLR(opt, [warmup, reduce], milestones=[args.warmup_steps])"
   ]
  },
  {
   "cell_type": "code",
   "execution_count": 13,
   "metadata": {},
   "outputs": [],
   "source": [
    "from tqdm import tqdm\n",
    "import numpy as np\n",
    "import torch\n",
    "import matplotlib.pyplot as plt\n",
    "from IPython.display import clear_output"
   ]
  },
  {
   "cell_type": "code",
   "execution_count": 14,
   "metadata": {},
   "outputs": [
    {
     "data": {
      "image/png": "[encoded data removed]",
      "text/plain": [
       "<Figure size 2000x500 with 1 Axes>"
      ]
     },
     "metadata": {},
     "output_type": "display_data"
    },
    {
     "name": "stderr",
     "output_type": "stream",
     "text": [
      "loss=4.4139, grad=12.4174, top1=0.2527, lr=9.9976e-06: 100%|██████████| 650/650 [14:55<00:00,  1.38s/it]\n",
      " 93%|█████████▎| 68/73 [00:55<00:03,  1.26it/s]"
     ]
    }
   ],
   "source": [
    "from sklearn.metrics import top_k_accuracy_score, accuracy_score\n",
    "\n",
    "plot = True\n",
    "plot_every = 20\n",
    "\n",
    "losses = []\n",
    "accs = []\n",
    "grads = []\n",
    "model.to(args.device)\n",
    "step = 0\n",
    "best_score = 0.0\n",
    "\n",
    "best_score = load_model(best_score)\n",
    "for epoch in range(1, args.num_epochs + 1):\n",
    "  pbar = tqdm(train_loader)\n",
    "  for sample in pbar:\n",
    "    step += 1\n",
    "    model.train()\n",
    "    \n",
    "    image, label = sample\n",
    "    image = torch.autograd.Variable(image.cuda())\n",
    "    label = torch.autograd.Variable(label.cuda())\n",
    "    opt.zero_grad()\n",
    "    out = model(image)\n",
    "    loss = loss_function(out, label)\n",
    "    loss.backward()\n",
    "    \n",
    "    grad = torch.nn.utils.clip_grad_norm_(model.parameters(), 2)\n",
    "    opt.step()\n",
    "    scheduler.step()\n",
    "    losses += [loss.cpu().detach().item()]\n",
    "    grads += [grad.cpu().detach().item()]\n",
    "    # acc = accuracy_score(label.detach().cpu().numpy(),\n",
    "    #                      out.detach().cpu().argmax(dim=1).numpy())\n",
    "    # accs += [acc]\n",
    "    accs += [top_k_accuracy_score(\n",
    "      label.detach().cpu().numpy(), out.detach().cpu().numpy(),\n",
    "      k=1, labels=range(args.num_classes))]\n",
    "    \n",
    "    \n",
    "    if plot and step % plot_every == 0: \n",
    "      clear_output(True)\n",
    "      plt.figure(figsize=(20, 5))\n",
    "      plt.subplot(131)\n",
    "      plt.title('loss=%.4f, grad=%.4f, top1=%.4f, lr=%.4e' % (\n",
    "      np.mean(losses[-32:]), np.mean(grads[-16:]), np.mean(accs[-32:]), scheduler.get_last_lr()[-1]))\n",
    "      plt.plot(losses)\n",
    "      plt.show()\n",
    "      \n",
    "    pbar.set_description_str('loss=%.4f, grad=%.4f, top1=%.4f, lr=%.4e' % (\n",
    "      np.mean(losses[-32:]), np.mean(grads[-16:]), np.mean(accs[-32:]), scheduler.get_last_lr()[-1]))\n",
    "    if step % args.checkpointing_steps == 0:\n",
    "      top1, top5 = eval()\n",
    "      print(\"Top1: %.4f, Top5: %.4f\" % (top1, top5))\n",
    "      if top5 > best_score:\n",
    "        save_model(step, top5)\n",
    "        best_score = top5\n",
    "        print('New best: %.4f' % top5)\n",
    "      # save_model(os.path.join(args.save_path, 'checkpoint_%d' % step))\n",
    "    del image, label\n",
    "  \n",
    "  top1, top5 = eval()\n",
    "  print(\"Top1: %.4f, Top5: %.4f\" % (top1, top5))\n",
    "  if top5 > best_score:\n",
    "    save_model(step, top5)\n",
    "    best_score = top5\n",
    "    print('New best: %.4f' % top5)\n",
    "  "
   ]
  },
  {
   "cell_type": "code",
   "execution_count": null,
   "metadata": {},
   "outputs": [
    {
     "name": "stdout",
     "output_type": "stream",
     "text": [
      "loaded\n"
     ]
    },
    {
     "data": {
      "text/plain": [
       "0.8125"
      ]
     },
     "execution_count": 16,
     "metadata": {},
     "output_type": "execute_result"
    }
   ],
   "source": [
    "load_model(0.0)"
   ]
  },
  {
   "cell_type": "code",
   "execution_count": null,
   "metadata": {},
   "outputs": [
    {
     "name": "stderr",
     "output_type": "stream",
     "text": [
      "100%|██████████| 29/29 [00:05<00:00,  5.14it/s]\n"
     ]
    }
   ],
   "source": [
    "top1, top5 = eval()"
   ]
  },
  {
   "cell_type": "code",
   "execution_count": null,
   "metadata": {},
   "outputs": [
    {
     "data": {
      "text/plain": [
       "(0.6594827586206896, 0.8125)"
      ]
     },
     "execution_count": 16,
     "metadata": {},
     "output_type": "execute_result"
    }
   ],
   "source": [
    "top1, top5"
   ]
  },
  {
   "cell_type": "code",
   "execution_count": null,
   "metadata": {},
   "outputs": [],
   "source": []
  },
  {
   "cell_type": "code",
   "execution_count": null,
   "metadata": {},
   "outputs": [
    {
     "data": {
      "text/plain": [
       "<matplotlib.image.AxesImage at 0x73e0d4ec7430>"
      ]
     },
     "metadata": {},
     "output_type": "display_data"
    },
    {
     "data": {
      "image/png": "[encoded data removed]",
      "text/plain": [
       "<Figure size 640x480 with 1 Axes>"
      ]
     },
     "metadata": {},
     "output_type": "display_data"
    }
   ],
   "source": [
    "import matplotlib.pyplot as plt\n",
    "\n",
    "image, label = next(iter(train_loader))\n",
    "image = image[0].cpu().numpy().transpose(1, 2, 0)\n",
    "\n",
    "plt.imshow(image, cmap='gray')"
   ]
  }
 ],
 "metadata": {
  "kernelspec": {
   "display_name": "fastai",
   "language": "python",
   "name": "python3"
  },
  "language_info": {
   "codemirror_mode": {
    "name": "ipython",
    "version": 3
   },
   "file_extension": ".py",
   "mimetype": "text/x-python",
   "name": "python",
   "nbconvert_exporter": "python",
   "pygments_lexer": "ipython3",
   "version": "3.10.12"
  }
 },
 "nbformat": 4,
 "nbformat_minor": 2
}
