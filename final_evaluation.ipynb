{
 "cells": [
  {
   "cell_type": "code",
   "execution_count": null,
   "metadata": {},
   "outputs": [],
   "source": [
    "from final_evaluation import *"
   ]
  },
  {
   "cell_type": "code",
   "execution_count": null,
   "metadata": {},
   "outputs": [],
   "source": [
    "import os\n",
    "import pandas as pd\n",
    "\n",
    "test_dir = '/media/minhduck/One Touch/official/images/test_retrieval'\n",
    "output_dir = os.path.join('working/', test_dir.replace('/', '_'))"
   ]
  },
  {
   "cell_type": "code",
   "execution_count": null,
   "metadata": {},
   "outputs": [],
   "source": [
    "print(\"Capturing depth buffer of stl meshes...\")\n",
    "capture_depth_buffer(test_dir, output_dir)"
   ]
  },
  {
   "cell_type": "code",
   "execution_count": null,
   "metadata": {},
   "outputs": [],
   "source": [
    "from argparse import Namespace\n",
    "\n",
    "# Model config\n",
    "args = Namespace(\n",
    "  model_name='caformer_s36.sail_in22k_ft_in1k_384',\n",
    "  no_head=True,\n",
    "  device='cuda',\n",
    "  save_path='./working/trained_models/oml/ckpt_05',\n",
    ")\n",
    "\n",
    "\n",
    "      \n",
    "      \n",
    "image_retrieval(args, test_dir, output_dir)"
   ]
  },
  {
   "cell_type": "code",
   "execution_count": null,
   "metadata": {},
   "outputs": [],
   "source": [
    "pd.read_csv(os.path.join(output_dir, 'pred.csv'), skiprows=1, names=['query_name', 'correct_output'])"
   ]
  },
  {
   "cell_type": "code",
   "execution_count": null,
   "metadata": {},
   "outputs": [],
   "source": [
    "\n",
    "\n",
    "def calculate_mrr_at_5(gt_csv, pred_csv):\n",
    "    # gt_df = pd.read_csv(gt_csv, header=None, names=['query_name', 'correct_output'])\n",
    "    # pred_df = pd.read_csv(pred_csv, header=None, names=['query_name', 'predictions'])\n",
    "    gt_df = pd.read_csv(gt_csv, skiprows=1, names=['query_name', 'correct_output'])\n",
    "    pred_df = pd.read_csv(pred_csv, skiprows=1, names=['query_name', 'predictions'])\n",
    "    \n",
    "    reciprocal_ranks = []\n",
    "\n",
    "    for _, gt_row in gt_df.iterrows():\n",
    "        query_name = gt_row['query_name']\n",
    "        correct_output = gt_row['correct_output'].split(',')[0]\n",
    "        \n",
    "        pred_row = pred_df[pred_df['query_name'] == query_name]\n",
    "        if pred_row.empty:\n",
    "            reciprocal_rank = 0\n",
    "        \n",
    "        predicted_outputs = pred_row.iloc[0]['predictions'].split(',')\n",
    "        print(predicted_outputs, gt_row)\n",
    "        try:\n",
    "            rank = predicted_outputs[:5].index(correct_output) + 1\n",
    "            reciprocal_rank = 1 / rank\n",
    "        except ValueError:\n",
    "            reciprocal_rank = 0\n",
    "        print(\"=>\", reciprocal_rank)\n",
    "        \n",
    "        reciprocal_ranks.append(reciprocal_rank)\n",
    "    \n",
    "    # Calculate Mean Reciprocal Rank (MRR)@5\n",
    "    mrr_at_5 = sum(reciprocal_ranks) / len(reciprocal_ranks)\n",
    "    \n",
    "    return mrr_at_5\n",
    "\n",
    "calculate_mrr_at_5(os.path.join(test_dir, 'labels.csv'), os.path.join(output_dir, 'pred.csv'))"
   ]
  },
  {
   "cell_type": "code",
   "execution_count": null,
   "metadata": {},
   "outputs": [],
   "source": []
  }
 ],
 "metadata": {
  "kernelspec": {
   "display_name": "fastai",
   "language": "python",
   "name": "python3"
  },
  "language_info": {
   "codemirror_mode": {
    "name": "ipython",
    "version": 3
   },
   "file_extension": ".py",
   "mimetype": "text/x-python",
   "name": "python",
   "nbconvert_exporter": "python",
   "pygments_lexer": "ipython3",
   "version": "3.10.12"
  }
 },
 "nbformat": 4,
 "nbformat_minor": 2
}
