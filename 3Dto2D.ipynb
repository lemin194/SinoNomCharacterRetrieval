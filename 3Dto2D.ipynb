{
 "cells": [
  {
   "cell_type": "code",
   "execution_count": 1,
   "metadata": {},
   "outputs": [
    {
     "name": "stdout",
     "output_type": "stream",
     "text": [
      "Jupyter environment detected. Enabling Open3D WebVisualizer.\n",
      "[Open3D INFO] WebRTC GUI backend enabled.\n",
      "[Open3D INFO] WebRTCWindowSystem: HTTP handshake server disabled.\n",
      "[Open3D INFO] EGL headless mode enabled.\n",
      "FEngine (64 bits) created at 0x70c2c4000010 (threading is enabled)\n",
      "EGL(1.5)\n",
      "OpenGL(4.6)\n"
     ]
    }
   ],
   "source": [
    "import copy\n",
    "import cv2\n",
    "import numpy as np\n",
    "import open3d as o3d\n",
    "import matplotlib.pyplot as plt\n",
    "\n",
    "img_width, img_height = (64, 64)\n",
    "\n",
    "renderer_pc = o3d.visualization.rendering.OffscreenRenderer(img_width, img_height)\n",
    "renderer_pc.scene.set_background(np.array([0, 0, 0, 0]))\n"
   ]
  },
  {
   "cell_type": "code",
   "execution_count": 3,
   "metadata": {},
   "outputs": [
    {
     "data": {
      "text/plain": [
       "<matplotlib.image.AxesImage at 0x70c32c017d90>"
      ]
     },
     "execution_count": 3,
     "metadata": {},
     "output_type": "execute_result"
    },
    {
     "data": {
      "image/png": "[encoded data removed]",
      "text/plain": [
       "<Figure size 640x480 with 1 Axes>"
      ]
     },
     "metadata": {},
     "output_type": "display_data"
    }
   ],
   "source": [
    "import random\n",
    "\n",
    "\n",
    "renderer_pc.scene.clear_geometry()\n",
    "pcd = o3d.io.read_triangle_mesh('input/2d3d/database/%d.stl' % 92)\n",
    "\n",
    "mat = o3d.visualization.rendering.MaterialRecord()\n",
    "mat.shader = 'defaultUnlit'\n",
    "\n",
    "renderer_pc.scene.add_geometry(\"pcd\", pcd, mat)\n",
    "\n",
    "# Optionally set the camera field of view (to zoom in a bit)\n",
    "vertical_field_of_view = 15.0  # between 5 and 90 degrees\n",
    "aspect_ratio = img_width / img_height  # azimuth over elevation\n",
    "near_plane = 0.1\n",
    "far_plane = 50.0\n",
    "fov_type = o3d.visualization.rendering.Camera.FovType.Vertical\n",
    "renderer_pc.scene.camera.set_projection(vertical_field_of_view, aspect_ratio, near_plane, far_plane, fov_type)\n",
    "\n",
    "# Look at the origin from the front (along the -Z direction, into the screen), with Y as Up.\n",
    "center = [0, 0, 0]  # look_at target\n",
    "eye = [0, 0, 4]  # camera position\n",
    "up = [0, 1, 0]  # camera orientation\n",
    "renderer_pc.scene.camera.look_at(center, eye, up)\n",
    "\n",
    "depth_image = np.asarray(renderer_pc.render_to_depth_image())\n",
    "depth_image[depth_image==1.0] = np.unique(depth_image)[-2]\n",
    "\n",
    "normalized_image = depth_image.copy()\n",
    "normalized_image = (normalized_image - normalized_image.min()) / (normalized_image.max() - normalized_image.min())\n",
    "normalized_image = np.round(normalized_image, decimals=2)\n",
    "threshold = 0.2\n",
    "# # print(threshold)\n",
    "# normalized_image[normalized_image < threshold] = 0.0\n",
    "normalized_image[normalized_image > threshold] =  threshold\n",
    "normalized_image = (normalized_image - normalized_image.min()) / (normalized_image.max() - normalized_image.min())\n",
    "normalized_image **= 2\n",
    "plt.imshow(normalized_image, cmap='gray')"
   ]
  },
  {
   "cell_type": "code",
   "execution_count": 4,
   "metadata": {},
   "outputs": [
    {
     "data": {
      "text/plain": [
       "['0.stl', '92.stl']"
      ]
     },
     "execution_count": 4,
     "metadata": {},
     "output_type": "execute_result"
    }
   ],
   "source": [
    "import os\n",
    "list(os.walk('input/2d3d/database/'))[0][2]"
   ]
  },
  {
   "cell_type": "code",
   "execution_count": 6,
   "metadata": {},
   "outputs": [
    {
     "name": "stderr",
     "output_type": "stream",
     "text": [
      "100%|██████████| 252/252 [09:10<00:00,  2.19s/it]\n",
      "  0%|          | 0/252 [00:00<?, ?it/s]\n"
     ]
    },
    {
     "name": "stdout",
     "output_type": "stream",
     "text": [
      "\u001b[1;33m[Open3D WARNING] Read geometry::TriangleMesh failed: unknown file extension.\u001b[0;m\n"
     ]
    },
    {
     "ename": "IndexError",
     "evalue": "index -2 is out of bounds for axis 0 with size 1",
     "output_type": "error",
     "traceback": [
      "\u001b[0;31m---------------------------------------------------------------------------\u001b[0m",
      "\u001b[0;31mIndexError\u001b[0m                                Traceback (most recent call last)",
      "\u001b[0;32m/tmp/ipykernel_128024/3025538805.py\u001b[0m in \u001b[0;36m<module>\u001b[0;34m\u001b[0m\n\u001b[1;32m     29\u001b[0m \u001b[0;34m\u001b[0m\u001b[0m\n\u001b[1;32m     30\u001b[0m     \u001b[0mdepth_image\u001b[0m \u001b[0;34m=\u001b[0m \u001b[0mnp\u001b[0m\u001b[0;34m.\u001b[0m\u001b[0masarray\u001b[0m\u001b[0;34m(\u001b[0m\u001b[0mrenderer_pc\u001b[0m\u001b[0;34m.\u001b[0m\u001b[0mrender_to_depth_image\u001b[0m\u001b[0;34m(\u001b[0m\u001b[0;34m)\u001b[0m\u001b[0;34m)\u001b[0m\u001b[0;34m\u001b[0m\u001b[0;34m\u001b[0m\u001b[0m\n\u001b[0;32m---> 31\u001b[0;31m     \u001b[0mdepth_image\u001b[0m\u001b[0;34m[\u001b[0m\u001b[0mdepth_image\u001b[0m\u001b[0;34m==\u001b[0m\u001b[0;36m1.0\u001b[0m\u001b[0;34m]\u001b[0m \u001b[0;34m=\u001b[0m \u001b[0mnp\u001b[0m\u001b[0;34m.\u001b[0m\u001b[0munique\u001b[0m\u001b[0;34m(\u001b[0m\u001b[0mdepth_image\u001b[0m\u001b[0;34m)\u001b[0m\u001b[0;34m[\u001b[0m\u001b[0;34m-\u001b[0m\u001b[0;36m2\u001b[0m\u001b[0;34m]\u001b[0m\u001b[0;34m\u001b[0m\u001b[0;34m\u001b[0m\u001b[0m\n\u001b[0m\u001b[1;32m     32\u001b[0m \u001b[0;34m\u001b[0m\u001b[0m\n\u001b[1;32m     33\u001b[0m     \u001b[0mnormalized_image\u001b[0m \u001b[0;34m=\u001b[0m \u001b[0mdepth_image\u001b[0m\u001b[0;34m.\u001b[0m\u001b[0mcopy\u001b[0m\u001b[0;34m(\u001b[0m\u001b[0;34m)\u001b[0m\u001b[0;34m\u001b[0m\u001b[0;34m\u001b[0m\u001b[0m\n",
      "\u001b[0;31mIndexError\u001b[0m: index -2 is out of bounds for axis 0 with size 1"
     ]
    },
    {
     "data": {
      "image/png": "[encoded data removed]",
      "text/plain": [
       "<Figure size 640x480 with 1 Axes>"
      ]
     },
     "metadata": {},
     "output_type": "display_data"
    }
   ],
   "source": [
    "from tqdm import tqdm\n",
    "import os\n",
    "for dirpath, dirnames, filenames in os.walk('input/2d3d/database'):\n",
    "  os.makedirs('input/2d3d/database/pairs/', exist_ok=True)\n",
    "  for stlname in tqdm(filenames):\n",
    "    target = os.path.join('input/2d3d/database/pairs', stlname.replace('stl', 'png'))\n",
    "    infile = os.path.join('input/2d3d/database/', stlname)\n",
    "    renderer_pc.scene.clear_geometry()\n",
    "    pcd = o3d.io.read_triangle_mesh(infile)\n",
    "\n",
    "    mat = o3d.visualization.rendering.MaterialRecord()\n",
    "    mat.shader = 'defaultUnlit'\n",
    "\n",
    "    renderer_pc.scene.add_geometry(\"pcd\", pcd, mat)\n",
    "\n",
    "    # Optionally set the camera field of view (to zoom in a bit)\n",
    "    vertical_field_of_view = 15.0  # between 5 and 90 degrees\n",
    "    aspect_ratio = img_width / img_height  # azimuth over elevation\n",
    "    near_plane = 0.1\n",
    "    far_plane = 50.0\n",
    "    fov_type = o3d.visualization.rendering.Camera.FovType.Vertical\n",
    "    renderer_pc.scene.camera.set_projection(vertical_field_of_view, aspect_ratio, near_plane, far_plane, fov_type)\n",
    "\n",
    "    # Look at the origin from the front (along the -Z direction, into the screen), with Y as Up.\n",
    "    center = [0, 0, 0]  # look_at target\n",
    "    eye = [0, 0, 4]  # camera position\n",
    "    up = [0, 1, 0]  # camera orientation\n",
    "    renderer_pc.scene.camera.look_at(center, eye, up)\n",
    "\n",
    "    depth_image = np.asarray(renderer_pc.render_to_depth_image())\n",
    "    depth_image[depth_image==1.0] = np.unique(depth_image)[-2]\n",
    "\n",
    "    normalized_image = depth_image.copy()\n",
    "    normalized_image = (normalized_image - normalized_image.min()) / (normalized_image.max() - normalized_image.min())\n",
    "    normalized_image = np.round(normalized_image, decimals=2)\n",
    "    threshold = 0.2\n",
    "    # # print(threshold)\n",
    "    # normalized_image[normalized_image < threshold] = 0.0\n",
    "    normalized_image[normalized_image > threshold] =  threshold\n",
    "    normalized_image = (normalized_image - normalized_image.min()) / (normalized_image.max() - normalized_image.min())\n",
    "    normalized_image **= 2\n",
    "    plt.imshow(normalized_image, cmap='gray')\n",
    "    plt.savefig(target)"
   ]
  },
  {
   "cell_type": "code",
   "execution_count": 7,
   "metadata": {},
   "outputs": [
    {
     "name": "stderr",
     "output_type": "stream",
     "text": [
      "100%|██████████| 252/252 [00:00<00:00, 777751.74it/s]\n",
      "100%|██████████| 252/252 [00:00<00:00, 964383.77it/s]\n"
     ]
    }
   ],
   "source": [
    "import os\n",
    "from tqdm import tqdm\n",
    "s = []\n",
    "for dirpath, dirnames, filenames in os.walk('input/2d3d/database'):\n",
    "  os.makedirs('input/2d3d/database/pairs/', exist_ok=True)\n",
    "  for stlname in tqdm(filenames):\n",
    "    if 'stl' not in stlname: continue\n",
    "    s += [int(stlname.replace('.stl', ''))]"
   ]
  },
  {
   "cell_type": "code",
   "execution_count": 8,
   "metadata": {},
   "outputs": [
    {
     "data": {
      "text/plain": [
       "True"
      ]
     },
     "execution_count": 8,
     "metadata": {},
     "output_type": "execute_result"
    }
   ],
   "source": [
    "sorted(s) == list(range(252))"
   ]
  },
  {
   "cell_type": "code",
   "execution_count": null,
   "metadata": {},
   "outputs": [],
   "source": []
  }
 ],
 "metadata": {
  "kernelspec": {
   "display_name": "automl",
   "language": "python",
   "name": "python3"
  },
  "language_info": {
   "codemirror_mode": {
    "name": "ipython",
    "version": 3
   },
   "file_extension": ".py",
   "mimetype": "text/x-python",
   "name": "python",
   "nbconvert_exporter": "python",
   "pygments_lexer": "ipython3",
   "version": "3.7.16"
  }
 },
 "nbformat": 4,
 "nbformat_minor": 2
}
